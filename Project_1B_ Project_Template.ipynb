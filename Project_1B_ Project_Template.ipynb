{
  "cells": [
    {
      "cell_type": "markdown",
      "metadata": {
        "pycharm": {}
      },
      "source": [
        "# Part I. ETL Pipeline for Pre-Processing the Files"
      ]
    },
    {
      "cell_type": "markdown",
      "metadata": {
        "pycharm": {}
      },
      "source": [
        "## PLEASE RUN THE FOLLOWING CODE FOR PRE-PROCESSING THE FILES"
      ]
    },
    {
      "cell_type": "markdown",
      "metadata": {
        "pycharm": {}
      },
      "source": [
        "#### Import Python packages "
      ]
    },
    {
      "cell_type": "code",
      "execution_count": 23,
      "metadata": {
        "pycharm": {
          "is_executing": false
        }
      },
      "outputs": [],
      "source": "# Import Python packages \nfrom decimal import Decimal\nimport pandas as pd\nimport cassandra\nimport re\nimport os\nimport glob\nimport numpy as np\nimport json\nimport csv"
    },
    {
      "cell_type": "markdown",
      "metadata": {
        "pycharm": {}
      },
      "source": [
        "#### Creating list of filepaths to process original event csv data files"
      ]
    },
    {
      "cell_type": "code",
      "execution_count": 24,
      "metadata": {
        "pycharm": {
          "is_executing": false
        }
      },
      "outputs": [
        {
          "name": "stdout",
          "text": [
            "\n"
          ],
          "output_type": "stream"
        }
      ],
      "source": "# checking your current working directory\nprint(os.getcwd())\n\n# Get your current folder and subfolder event data\nfilepath \u003d os.getcwd() + \u0027/event_data\u0027\n\n# Create a for loop to create a list of files and collect each filepath\nfor root, dirs, files in os.walk(filepath):\n    \n# join the file path and roots with the subdirectories using glob\n    file_path_list \u003d glob.glob(os.path.join(root,\u0027*\u0027))\n    #print(file_path_list)"
    },
    {
      "cell_type": "markdown",
      "metadata": {
        "pycharm": {}
      },
      "source": [
        "#### Processing the files to create the data file csv that will be used for Apache Casssandra tables"
      ]
    },
    {
      "cell_type": "code",
      "execution_count": 25,
      "metadata": {
        "pycharm": {
          "is_executing": false
        }
      },
      "outputs": [],
      "source": [
        "# initiating an empty list of rows that will be generated from each file\n",
        "full_data_rows_list \u003d [] \n",
        "    \n",
        "# for every filepath in the file path list \n",
        "for f in file_path_list:\n",
        "\n",
        "# reading csv file \n",
        "    with open(f, \u0027r\u0027, encoding \u003d \u0027utf8\u0027, newline\u003d\u0027\u0027) as csvfile: \n",
        "        # creating a csv reader object \n",
        "        csvreader \u003d csv.reader(csvfile) \n",
        "        next(csvreader)\n",
        "        \n",
        " # extracting each data row one by one and append it        \n",
        "        for line in csvreader:\n",
        "            #print(line)\n",
        "            full_data_rows_list.append(line) \n",
        "            \n",
        "# uncomment the code below if you would like to get total number of rows \n",
        "#print(len(full_data_rows_list))\n",
        "# uncomment the code below if you would like to check to see what the list of event data rows will look like\n",
        "#print(full_data_rows_list)\n",
        "\n",
        "# creating a smaller event data csv file called event_datafile_full csv that will be used to insert data into the \\\n",
        "# Apache Cassandra tables\n",
        "csv.register_dialect(\u0027myDialect\u0027, quoting\u003dcsv.QUOTE_ALL, skipinitialspace\u003dTrue)\n",
        "\n",
        "with open(\u0027event_datafile_new.csv\u0027, \u0027w\u0027, encoding \u003d \u0027utf8\u0027, newline\u003d\u0027\u0027) as f:\n",
        "    writer \u003d csv.writer(f, dialect\u003d\u0027myDialect\u0027)\n",
        "    writer.writerow([\u0027artist\u0027,\u0027firstName\u0027,\u0027gender\u0027,\u0027itemInSession\u0027,\u0027lastName\u0027,\u0027length\u0027,\\\n",
        "                \u0027level\u0027,\u0027location\u0027,\u0027sessionId\u0027,\u0027song\u0027,\u0027userId\u0027])\n",
        "    for row in full_data_rows_list:\n",
        "        if (row[0] \u003d\u003d \u0027\u0027):\n",
        "            continue\n",
        "        writer.writerow((row[0], row[2], row[3], row[4], row[5], row[6], row[7], row[8], row[12], row[13], row[16]))\n"
      ]
    },
    {
      "cell_type": "code",
      "execution_count": 26,
      "metadata": {
        "pycharm": {
          "is_executing": false
        }
      },
      "outputs": [
        {
          "name": "stdout",
          "text": [
            "6821\n"
          ],
          "output_type": "stream"
        }
      ],
      "source": [
        "# check the number of rows in your csv file\n",
        "with open(\u0027event_datafile_new.csv\u0027, \u0027r\u0027, encoding \u003d \u0027utf8\u0027) as f:\n",
        "    print(sum(1 for line in f))"
      ]
    },
    {
      "cell_type": "markdown",
      "metadata": {
        "pycharm": {}
      },
      "source": "# Part II. Complete the Apache Cassandra coding portion of your project. \n"
    },
    {
      "cell_type": "markdown",
      "metadata": {
        "pycharm": {}
      },
      "source": "\n#### Creating a Cluster"
    },
    {
      "cell_type": "code",
      "execution_count": 27,
      "metadata": {
        "pycharm": {
          "is_executing": false
        }
      },
      "outputs": [],
      "source": "\nfrom cassandra.cluster import Cluster\ntry:\n    # This should make a connection to a Cassandra instance your local machine\n    cluster \u003d Cluster([\u0027192.168.99.100\u0027])\n    # To establish connection and begin executing queries, need a session\n    session \u003d cluster.connect()\nexcept Exception as e:\n    print(e)"
    },
    {
      "cell_type": "markdown",
      "metadata": {
        "pycharm": {}
      },
      "source": "\n#### Create Keyspace"
    },
    {
      "cell_type": "code",
      "execution_count": 28,
      "metadata": {
        "pycharm": {
          "is_executing": false
        }
      },
      "outputs": [],
      "source": "try:\n    session.execute(\"\"\"CREATE  KEYSPACE IF NOT EXISTS udacity \n                       WITH REPLICATION \u003d\n                       { \u0027class\u0027 : \u0027SimpleStrategy\u0027, \u0027replication_factor\u0027 : 1 }\n                    \"\"\")\nexcept Exception as e:\n    print(e)"
    },
    {
      "cell_type": "markdown",
      "metadata": {
        "pycharm": {}
      },
      "source": "\n#### Set Keyspace"
    },
    {
      "cell_type": "code",
      "execution_count": 29,
      "metadata": {
        "pycharm": {
          "is_executing": false
        }
      },
      "outputs": [],
      "source": "try:\n    session.set_keyspace(\u0027udacity\u0027)\nexcept Exception as e:\n    print(e)\n"
    },
    {
      "cell_type": "markdown",
      "metadata": {
        "pycharm": {}
      },
      "source": [
        "### Now we need to create tables to run the following queries. Remember, with Apache Cassandra you model the database tables on the queries you want to run."
      ]
    },
    {
      "cell_type": "markdown",
      "metadata": {
        "pycharm": {}
      },
      "source": "## Create queries to ask the following three questions of the data\n"
    },
    {
      "cell_type": "markdown",
      "source": "#### Query 1:  Give me the artist, song title and song\u0027s length in the music app history that was heard during\n",
      "metadata": {
        "pycharm": {
          "metadata": false,
          "name": "#%% md\n"
        }
      }
    },
    {
      "cell_type": "code",
      "execution_count": 30,
      "outputs": [],
      "source": "## sessionId \u003d 338, and itemInSession \u003d 4\ntry:\n    session.execute(\"\"\"CREATE TABLE IF NOT EXISTS history_by_session (\n                       session_id bigint, item_in_session int, artist text, song_title text, length decimal,\n                       PRIMARY KEY ((session_id), item_in_session))\n                    \"\"\")\nexcept Exception as e:\n    print(e)",
      "metadata": {
        "pycharm": {
          "metadata": false,
          "name": "#%%\n",
          "is_executing": false
        }
      }
    },
    {
      "cell_type": "markdown",
      "source": "#### Insert data into table `history_by_session`",
      "metadata": {
        "pycharm": {
          "metadata": false
        }
      }
    },
    {
      "cell_type": "code",
      "execution_count": 32,
      "metadata": {
        "scrolled": false,
        "pycharm": {
          "is_executing": false
        }
      },
      "outputs": [],
      "source": "file \u003d \u0027event_datafile_new.csv\u0027\n\nwith open(file, encoding \u003d \u0027utf8\u0027) as f:\n    csvreader \u003d csv.reader(f)\n    next(csvreader) # skip header\n    for line in csvreader:\n        query \u003d \"INSERT INTO history_by_session (session_id, item_in_session, artist, song_title, length) \"\n        query \u003d query + \"VALUES(%s, %s, %s, %s, %s)\"\n        session.execute(query, (int(line[8]), int(line[3]), line[0], line[9], Decimal(line[5])))"
    },
    {
      "cell_type": "markdown",
      "metadata": {
        "pycharm": {}
      },
      "source": "#### Do a SELECT to verify that the data have been inserted into `history_by_session`\n"
    },
    {
      "cell_type": "code",
      "execution_count": 33,
      "metadata": {
        "scrolled": true,
        "pycharm": {
          "is_executing": false
        }
      },
      "outputs": [
        {
          "name": "stdout",
          "text": [
            "      artist                       song_title    length\n0  Faithless  Music Matters (Mark Knight Dub)  495.3073\n"
          ],
          "output_type": "stream"
        }
      ],
      "source": "try:\n    rows \u003d session.execute(\"\"\"SELECT artist, song_title, length\n                              FROM history_by_session\n                              WHERE session_id \u003d 338 \n                              AND item_in_session \u003d 4\"\"\")\n    \n    df \u003d pd.DataFrame(list(rows), columns\u003d[\u0027artist\u0027, \u0027song_title\u0027, \u0027length\u0027])\n    print(df.to_string())    \nexcept Exception as e:\n    print(e)\n"
    },
    {
      "cell_type": "markdown",
      "source": "#### Query 2: Give me only the following: name of artist, song (sorted by itemInSession) and user (first and last name)\\",
      "metadata": {
        "pycharm": {
          "metadata": false,
          "name": "#%% md\n"
        }
      }
    },
    {
      "cell_type": "code",
      "execution_count": 34,
      "metadata": {
        "pycharm": {
          "is_executing": false
        }
      },
      "outputs": [],
      "source": "## for userid \u003d 10, sessionid \u003d 182\ntry:\n    session.execute(\"\"\"CREATE TABLE IF NOT EXISTS history_by_user_session (\n                       user_id bigint, session_id bigint, item_in_session int, artist text, song_title text, \n                       user_first_name text, user_last_name text,\n                       PRIMARY KEY ((user_id, session_id), item_in_session))\n                       WITH CLUSTERING ORDER BY (item_in_session DESC)\n                    \"\"\")\nexcept Exception as e:\n    print(e)"
    },
    {
      "cell_type": "markdown",
      "source": "#### Insert data into table `history_by_user_session`",
      "metadata": {
        "pycharm": {
          "metadata": false
        }
      }
    },
    {
      "cell_type": "code",
      "execution_count": 35,
      "outputs": [],
      "source": "# We have provided part of the code to set up the CSV file. Please complete the Apache Cassandra code below#\nfile \u003d \u0027event_datafile_new.csv\u0027\n\nwith open(file, encoding \u003d \u0027utf8\u0027) as f:\n    csvreader \u003d csv.reader(f)\n    next(csvreader) # skip header\n    for line in csvreader:\n        query \u003d \"INSERT INTO history_by_user_session (user_id, session_id, item_in_session, artist, song_title, \" \\\n                \"user_first_name, user_last_name) \"\n        query \u003d query + \"VALUES(%s, %s, %s, %s, %s, %s, %s)\"\n        session.execute(query, (int(line[10]), int(line[8]), int(line[3]), line[0], line[9], line[1], line[4]))",
      "metadata": {
        "pycharm": {
          "metadata": false,
          "name": "#%%\n",
          "is_executing": false
        }
      }
    },
    {
      "cell_type": "markdown",
      "source": "#### Do a SELECT to verify that the data have been inserted into `history_by_user_session`",
      "metadata": {
        "pycharm": {
          "metadata": false
        }
      }
    },
    {
      "cell_type": "code",
      "execution_count": 36,
      "outputs": [
        {
          "name": "stdout",
          "text": [
            "              artist                                         song_title user_first_name user_last_name\n0      Lonnie Gordon  Catch You Baby (Steve Pitron \u0026 Max Sanna Radio...          Sylvie           Cruz\n1  Sebastien Tellier                                          Kilometer          Sylvie           Cruz\n2       Three Drives                                        Greece 2000          Sylvie           Cruz\n3   Down To The Bone                                 Keep On Keepin\u0027 On          Sylvie           Cruz\n"
          ],
          "output_type": "stream"
        }
      ],
      "source": "try:\n    rows \u003d session.execute(\"\"\"SELECT artist, song_title, user_first_name, user_last_name\n                              FROM history_by_user_session\n                              WHERE user_id \u003d 10\n                              AND session_id \u003d 182\"\"\")\n    \n    df \u003d pd.DataFrame(list(rows), columns\u003d[\u0027artist\u0027, \u0027song_title\u0027, \u0027user_first_name\u0027, \u0027user_last_name\u0027])\n    print(df.to_string())    \nexcept Exception as e:\n    print(e)",
      "metadata": {
        "pycharm": {
          "metadata": false,
          "name": "#%%\n",
          "is_executing": false
        }
      }
    },
    {
      "cell_type": "markdown",
      "source": "#### Query 3: Give me every user name (first and last) in my music app history who listened to the song \u0027All Hands Against His Own\u0027",
      "metadata": {
        "pycharm": {
          "metadata": false,
          "name": "#%% md\n"
        }
      }
    },
    {
      "cell_type": "code",
      "execution_count": 37,
      "metadata": {
        "pycharm": {
          "is_executing": false
        }
      },
      "outputs": [],
      "source": "try:\n    session.execute(\"\"\"CREATE TABLE IF NOT EXISTS history_by_song_title (\n                       user_id bigint, song_title text, user_first_name text, user_last_name text,\n                       PRIMARY KEY ((song_title), user_id))\n                    \"\"\")\nexcept Exception as e:\n    print(e)"
    },
    {
      "cell_type": "markdown",
      "source": "#### Insert data into table `history_by_song_title`                    ",
      "metadata": {
        "pycharm": {
          "metadata": false,
          "name": "#%% md\n"
        }
      }
    },
    {
      "cell_type": "code",
      "execution_count": 38,
      "outputs": [],
      "source": "# We have provided part of the code to set up the CSV file. Please complete the Apache Cassandra code below#\nfile \u003d \u0027event_datafile_new.csv\u0027\n\nwith open(file, encoding \u003d \u0027utf8\u0027) as f:\n    csvreader \u003d csv.reader(f)\n    next(csvreader) # skip header\n    for line in csvreader:\n        query \u003d \"INSERT INTO history_by_song_title (user_id, song_title, user_first_name, user_last_name) \"\n        query \u003d query + \"VALUES(%s, %s, %s, %s)\"\n        session.execute(query, (int(line[10]), line[9], line[1], line[4]))\n",
      "metadata": {
        "pycharm": {
          "metadata": false,
          "name": "#%%\n",
          "is_executing": false
        }
      }
    },
    {
      "cell_type": "markdown",
      "metadata": {
        "pycharm": {
          "name": "#%% md\n"
        }
      },
      "source": "#### Do a SELECT to verify that the data have been inserted into each table\n"
    },
    {
      "cell_type": "code",
      "execution_count": 39,
      "outputs": [
        {
          "name": "stdout",
          "text": [
            "   user_id            user_first_name user_last_name song_title\n0       29  All Hands Against His Own     Jacqueline      Lynch\n1       80  All Hands Against His Own          Tegan     Levine\n2       95  All Hands Against His Own           Sara    Johnson\n"
          ],
          "output_type": "stream"
        }
      ],
      "source": "try:\n    rows \u003d session.execute(\"\"\"SELECT user_id, song_title, user_first_name, user_last_name\n                              FROM history_by_song_title\n                              WHERE song_title\u003d\u0027All Hands Against His Own\u0027\n                              \"\"\")\n    \n    df \u003d pd.DataFrame(list(rows), columns\u003d[\u0027user_id\u0027, \u0027user_first_name\u0027, \u0027user_last_name\u0027, \u0027song_title\u0027])\n    print(df.to_string())    \nexcept Exception as e:\n    print(e)\n",
      "metadata": {
        "pycharm": {
          "metadata": false,
          "name": "#%%\n",
          "is_executing": false
        }
      }
    },
    {
      "cell_type": "markdown",
      "metadata": {
        "pycharm": {}
      },
      "source": "### Drop the tables before closing out the sessions"
    },
    {
      "cell_type": "code",
      "execution_count": 40,
      "metadata": {
        "pycharm": {
          "is_executing": false
        }
      },
      "outputs": [],
      "source": "try:\n    session.execute(\"DROP TABLE history_by_session\")\n    session.execute(\"DROP TABLE history_by_user_session\")\n    session.execute(\"DROP TABLE history_by_song_title\" )\nexcept Exception as e:\n    print(e)"
    },
    {
      "cell_type": "markdown",
      "metadata": {
        "pycharm": {}
      },
      "source": [
        "### Close the session and cluster connection¶"
      ]
    },
    {
      "cell_type": "code",
      "execution_count": null,
      "metadata": {
        "pycharm": {}
      },
      "outputs": [],
      "source": [
        "session.shutdown()\n",
        "cluster.shutdown()"
      ]
    },
    {
      "cell_type": "code",
      "execution_count": null,
      "metadata": {
        "pycharm": {}
      },
      "outputs": [],
      "source": ""
    }
  ],
  "metadata": {
    "kernelspec": {
      "name": "pycharm-8b572134",
      "language": "python",
      "display_name": "PyCharm (data-modelling-with-cassandra)"
    },
    "language_info": {
      "codemirror_mode": {
        "name": "ipython",
        "version": 3
      },
      "file_extension": ".py",
      "mimetype": "text/x-python",
      "name": "python",
      "nbconvert_exporter": "python",
      "pygments_lexer": "ipython3",
      "version": "3.6.3"
    }
  },
  "nbformat": 4,
  "nbformat_minor": 2
}